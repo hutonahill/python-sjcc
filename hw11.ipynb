{
 "cells": [
  {
   "cell_type": "markdown",
   "metadata": {},
   "source": [
    "\n",
    "# CIS024C - Spring 2018 - Friday 5:30-9:25pm \n",
    "\n",
    "## Homework 11\n",
    "\n",
    "Homework 11 covers plotting with matplotlib/pyplot\n",
    "\n",
    "The below sites have some interesting and useful information on working with plots\n",
    "\n",
    "* D3 Gallery - https://github.com/d3/d3/wiki/Gallery\n",
    "* Minard's Visualizaion of Napolean's 1812 March - https://robots.thoughtbot.com/analyzing-minards-visualization-of-napoleons-1812-march\n",
    "* Matplotlib Overview - https://matplotlib.org/users/intro.html\n",
    "\n",
    "\n",
    "You will need to download this notebook and use this as a starting point for your homework. You will just need to fill in the content of each code-block (cell) and execute. Once you have completed all the exercises, you will need to save and upload this to your github repository under a folder called hw10.\n",
    "\n",
    "Note also the exercises build on top of one another so you might be able to do the next exercise if you have not completed the previous exercise.\n",
    "\n",
    "Post any questions you have on our Slack at **cis-024c1.slack.com**\n",
    "\n",
    "** Slides ** for Week 11 can be found at \n",
    "\n",
    "https://docs.google.com/presentation/d/1Lz6li1lw7D5_abcG6W68E2rHrtCMgI-cJSA9VokKSi4/edit?usp=sharing\n",
    "\n",
    "**Please refer back to hw1 and slack for instructions on how to setup your computer for developing using Python.**"
   ]
  },
  {
   "cell_type": "markdown",
   "metadata": {},
   "source": [
    "### Helpful Jupyter Commands\n",
    "\n",
    "Below are some useful commands to know when using Jupyter\n",
    "\n",
    "1. You can add a new cell by clicking on the \"+\" icon on top.\n",
    "2. You can delete a cell by selecting that cell and clicking on the \"scissors\" icon on top.\n",
    "3. You can execute a cell by either pressing shift+enter or selecting the \"play\" button on top.\n",
    "4. You can create a new file in Jupyter via the File menu->New Notebook option. Make sure to select Python 2 when creating your notebook.\n",
    "5. Also, for your code blocks make sure that Code is selected instead of another option like Markdown.\n",
    "6. Use the Enter key to go to the next line in a cell to enter the next statement.\n",
    "7. You can clear results by clicking on the Cell menu item and selecting Current Output->Clear or All Output->Clear depending on whether you are trying to just clear the output for one cell or for all cells.\n",
    "8. In case your program has crashed for some reason (infinite loop, for example), you can restart your Python session by select Kernel in the menu and selecting Restart.\n"
   ]
  },
  {
   "cell_type": "markdown",
   "metadata": {},
   "source": [
    "#### Check Python Version"
   ]
  },
  {
   "cell_type": "code",
   "execution_count": 5,
   "metadata": {},
   "outputs": [
    {
     "name": "stdout",
     "output_type": "stream",
     "text": [
      "Python 2.7.12 :: Continuum Analytics, Inc.\r\n"
     ]
    }
   ],
   "source": [
    "!python --version"
   ]
  },
  {
   "cell_type": "markdown",
   "metadata": {},
   "source": [
    "#### Class work\n",
    "\n",
    "The main classwork file is https://github.com/cis024c/spring2018classwork/blob/master/week11/classwork_04242018.ipynb"
   ]
  },
  {
   "cell_type": "markdown",
   "metadata": {},
   "source": [
    "**Exercise 1 - Testing your knowledge of plots**\n",
    "\n",
    "Answer the below questions\n",
    "\n",
    "1. What is the goal of data visualization?\n",
    "2. Why is it critical to ensure that every bit of ink in a visualization contributes to the intended goal?\n",
    "3. What is the difference between a histogram and a barplot?\n",
    "4. Name four types of charts"
   ]
  },
  {
   "cell_type": "markdown",
   "metadata": {},
   "source": [
    "<< Double click this cell and enter your result >>\n",
    "\n",
    "1) To help you vishulize data and proses it\n",
    "\n",
    "2) you dont want to have any un nesisary data\n",
    "\n",
    "3) in a bar chart, each column represents a group defined by a variable; and with histograms, each column represents a group defined by a continuous, quantitative variable.\n",
    "\n",
    "4) bar chart, bubble chart, scater plot, line graph."
   ]
  },
  {
   "cell_type": "markdown",
   "metadata": {},
   "source": [
    "** Exercise 2 - Line chart **\n",
    "\n",
    "Consider the following dataset of the weights of 7 cars and their corresponding fuel consumption\n",
    "\n",
    "```\n",
    "weight = [3170,3455,3222,3983,2441,2500,2390]\n",
    "fuel_consumption (miles per gallon) = [26,30,28,23,36,33,38]\n",
    "```\n",
    "\n",
    "1. Create a line chart that plots the weight of cars against their fuel consumption.\n",
    "2. Comment on your findings. How does fuel consumption change as the weight of the car increases?\n",
    "\n",
    "Make sure to add labels and a title to your chart"
   ]
  },
  {
   "cell_type": "code",
   "execution_count": 22,
   "metadata": {},
   "outputs": [
    {
     "data": {
      "image/png": "[encoded data removed]",
      "text/plain": [
       "<matplotlib.figure.Figure at 0x11255ea90>"
      ]
     },
     "metadata": {},
     "output_type": "display_data"
    }
   ],
   "source": [
    "### YOUR CODE GOES BELOW\n",
    "\n",
    "import matplotlib.pyplot as plt\n",
    "\n",
    "# weight\n",
    "#originl x = [3170,3455,3222,3983,2441,2500,2390]\n",
    "y = [3983,3170,3222,3455,2500,2441,2390]\n",
    "\n",
    "\n",
    "# fuel_consumption (miles per gallon)\n",
    "#originl y = [26,30,28,23,36,33,38]\n",
    "x = [23,26,28,30,33,36,38]\n",
    "\n",
    "\n",
    "plt.plot(x,y)\n",
    "plt.show()\n",
    "\n",
    "### END CODE"
   ]
  },
  {
   "cell_type": "markdown",
   "metadata": {},
   "source": [
    "#### Exercise 3 - Scatter Plot\n",
    "\n",
    "Consider the following dataset of the weights of individuals and the number of times they used the remote contorl in a period of one hour\n",
    "\n",
    "```\n",
    "weight = [121,127,128,131,130,131,133,141,161,167,169,171,173,175,177,181]\n",
    "remote_use = [4,3,7,5,3,8,3,4,22,21,17,23,19,22,18,23]\n",
    "```\n",
    "\n",
    "1. Create a scatterplot with the weight on the y-axis and the remote_use variable on the x_axis.\n",
    "2. What can you conclude from the weight the points are distributed on the graph? Does a particular pattern standout?\n",
    "\n",
    "Make sure to add labels and a title to your chart\n"
   ]
  },
  {
   "cell_type": "code",
   "execution_count": 29,
   "metadata": {},
   "outputs": [
    {
     "data": {
      "image/png": "[encoded data removed]",
      "text/plain": [
       "<matplotlib.figure.Figure at 0x111b41290>"
      ]
     },
     "metadata": {},
     "output_type": "display_data"
    },
    {
     "name": "stdout",
     "output_type": "stream",
     "text": [
      "at about 150 pounds, people start to use the remote much more\n"
     ]
    }
   ],
   "source": [
    "### YOUR CODE GOES BELOW\n",
    "\n",
    "import matplotlib.pyplot as plt\n",
    "\n",
    "#weight\n",
    "x1 = [121,127,128,131,130,131,133,141,161,167,169,171,173,175,177,181]\n",
    "\n",
    "#remote_use\n",
    "y1 = [4,3,7,5,3,8,3,4,22,21,17,23,19,22,18,23]\n",
    "\n",
    "\n",
    "plt.xlabel(\"weight\")\n",
    "plt.ylabel(\"remote_use\")\n",
    "\n",
    "plt.plot(x1,y1, 'bo', label = \"first line\")\n",
    "\n",
    "\n",
    "plt.legend()\n",
    "\n",
    "plt.show()\n",
    "\n",
    "print \"at about 150 pounds, people start to use the remote much more\"\n",
    "### END CODE"
   ]
  },
  {
   "cell_type": "markdown",
   "metadata": {},
   "source": [
    "#### Exercise 4 - Bar Charts\n",
    "\n",
    "Consider the following dataset that show the excuses for being late in class and the number of times the excuse was used.\n",
    "\n",
    "```\n",
    "excuse = ['No clean pants to wear','thought it was Saturday','forgot to set alarm','too dark, thought it was night','stuck in traffic']\n",
    "frequency_of_use = [12,8,26,5,14]\n",
    "```\n",
    "\n",
    "Create a bar chart with the excuse on the y axis and the frequency of use on the x axis. Make sure the add labels and a title to the chart."
   ]
  },
  {
   "cell_type": "code",
   "execution_count": 33,
   "metadata": {},
   "outputs": [
    {
     "data": {
      "image/png": "[encoded data removed]",
      "text/plain": [
       "<matplotlib.figure.Figure at 0x111b7c750>"
      ]
     },
     "metadata": {},
     "output_type": "display_data"
    }
   ],
   "source": [
    "### YOUR CODE GOES BELOW\n",
    "\n",
    "import matplotlib.pyplot as plt\n",
    "\n",
    "x1 = ['No clean pants to wear','thought it was Saturday','forgot to set alarm','too dark, thought it was night','stuck in traffic']\n",
    "y1 = [12,8,26,5,14]\n",
    "\n",
    "\n",
    "\n",
    "plt.xlabel(\"excuse\")\n",
    "plt.ylabel(\"frequency_of_use\")\n",
    "\n",
    "plt.bar(x1,y1, label = \"first line\")\n",
    "\n",
    "\n",
    "\n",
    "plt.show()\n",
    "\n",
    "## well, its there, but you can read the text. could you explain how to fix this in class?\n",
    "\n",
    "### END CODE"
   ]
  },
  {
   "cell_type": "markdown",
   "metadata": {},
   "source": [
    "#### Exercise 5 -  Creating subplots\n",
    "\n",
    "Consider the below data that shows the relationship between scores obtained and hours spent studying a week.\n",
    "\n",
    "```\n",
    "hours = [1,2,3,4,5,6,7,8,9,10]\n",
    "score = [40,45,50,55,60,65,70,80,90,100]\n",
    "```\n",
    "\n",
    "Create 4 subplots in a 2x2 grid, consisting of below four plots\n",
    "\n",
    "1. Histogram of scores.\n",
    "2. Line chart plotting hours on the x_axis and the score on the y_axis\n",
    "3. Bar chart plotting the hours on the x_axis and the score on the y_axis\n",
    "4. A scatter plot with the hours on the x_axis and the score on the y_axis\n",
    "\n",
    "Make sure to add labels and a title to each of the charts."
   ]
  },
  {
   "cell_type": "code",
   "execution_count": 6,
   "metadata": {},
   "outputs": [
    {
     "data": {
      "image/png": "[encoded data removed]",
      "text/plain": [
       "<matplotlib.figure.Figure at 0x10fce4710>"
      ]
     },
     "metadata": {},
     "output_type": "display_data"
    },
    {
     "data": {
      "image/png": "[encoded data removed]",
      "text/plain": [
       "<matplotlib.figure.Figure at 0x10fde4f10>"
      ]
     },
     "metadata": {},
     "output_type": "display_data"
    },
    {
     "data": {
      "image/png": "[encoded data removed]",
      "text/plain": [
       "<matplotlib.figure.Figure at 0x10fea3310>"
      ]
     },
     "metadata": {},
     "output_type": "display_data"
    },
    {
     "data": {
      "image/png": "[encoded data removed]",
      "text/plain": [
       "<matplotlib.figure.Figure at 0x10ff94210>"
      ]
     },
     "metadata": {},
     "output_type": "display_data"
    }
   ],
   "source": [
    "### YOUR CODE GOES \n",
    "\n",
    "import matplotlib.pyplot as plt\n",
    "\n",
    "y = [40,45,50,55,60,65,70,80,90,100]\n",
    "\n",
    "x = [1,2,3,4,5,6,7,8,9,10]\n",
    "\n",
    "plt.ylabel(\"Scores\")\n",
    "\n",
    "plt.hist(y)\n",
    "\n",
    "plt.show()\n",
    "\n",
    "#---------------------------\n",
    "\n",
    "y = [40,45,50,55,60,65,70,80,90,100]\n",
    "\n",
    "x = [1,2,3,4,5,6,7,8,9,10]\n",
    "\n",
    "plt.ylabel(\"Scores\")\n",
    "plt.xlabel(\"Hours of study\")\n",
    "\n",
    "plt.plot(x,y)\n",
    "plt.show()\n",
    "\n",
    "\n",
    "#---------------------------\n",
    "\n",
    "y = [40,45,50,55,60,65,70,80,90,100]\n",
    "\n",
    "x = [1,2,3,4,5,6,7,8,9,10]\n",
    "\n",
    "plt.ylabel(\"Scores\")\n",
    "plt.xlabel(\"Hours of study\")\n",
    "\n",
    "plt.bar(x,y, label = \"first line\")\n",
    "\n",
    "\n",
    "plt.show()\n",
    "\n",
    "#---------------------------\n",
    "\n",
    "y = [40,45,50,55,60,65,70,80,90,100]\n",
    "\n",
    "x = [1,2,3,4,5,6,7,8,9,10]\n",
    "\n",
    "plt.ylabel(\"Scores\")\n",
    "plt.xlabel(\"Hours of study\")\n",
    "\n",
    "plt.plot(x,y, 'bo', )\n",
    "\n",
    "\n",
    "plt.legend()\n",
    "\n",
    "plt.show()\n",
    "\n",
    "### END CODE"
   ]
  },
  {
   "cell_type": "markdown",
   "metadata": {
    "collapsed": true
   },
   "source": [
    "## OPTIONAL EXERCISES\n",
    "\n",
    "Below is a set of optional exercises. These will not be graded but the solutions will be posted. I would strongly encourage you to try these out if you are done with the mandatory homework exercises to improve your understanding of python."
   ]
  },
  {
   "cell_type": "markdown",
   "metadata": {},
   "source": [
    "#### Exercise 6 -  Pie Plots\n",
    "\n",
    "Consider the following distribution of populations of 10 countries in the European Union in 2016 (See https://en.wikipedia.org/wiki/List_of_European_Union_member_states_by_population)\n",
    "\n",
    "```\n",
    "1\t Germany\t82,301,678\t\n",
    "2\t France\t66,991,000\t\n",
    "3\t Italy\t60,795,612\t\n",
    "4\t Spain\t46,468,102\t\n",
    "5\t Poland\t38,567,614\t\n",
    "6\t Romania\t19,861,408\t\n",
    "7\t Netherlands\t17,100,475\t\n",
    "8\t Belgium\t11,258,434\t\n",
    "9\t Greece\t10,812,46\n",
    "10\t Czech Republic\t10,538,275\n",
    "```\n",
    "\n",
    "1. Create a pie-chart that shows the distribution of populations across the 10 countries\n",
    "2. Comment on your findings\n",
    "3. Why could a pie-chart be problematic when trying to visualize the results"
   ]
  },
  {
   "cell_type": "code",
   "execution_count": null,
   "metadata": {
    "collapsed": true
   },
   "outputs": [],
   "source": []
  },
  {
   "cell_type": "markdown",
   "metadata": {},
   "source": [
    "#### Exercise 7 -  Large data sets and sub Plots\n",
    "\n",
    "For this exercise you will download historical stock data from the internet from the below link. The data is available at - https://github.com/cis024c/fall2017hw/raw/master/hw11/all_stocks_1yr.csv. The data has the following fields - Date, Open, High, Low, Close, Volume, Name. The Name is the stock ticker or stock symbol.\n",
    "\n",
    "Your subplot will involve two plots in a 1X2 grid (1 row and two columns)\n",
    "\n",
    "* The first column will show a plot of date versus the price at close\n",
    "* The second column show show a plot of date versus the volume\n",
    "\n",
    "You will create an interactive way for the user to enter the ticker symbol and then look up for the data corresponding to that symbol and show the corresponding plot for that chart."
   ]
  },
  {
   "cell_type": "code",
   "execution_count": null,
   "metadata": {
    "collapsed": true
   },
   "outputs": [],
   "source": []
  },
  {
   "cell_type": "code",
   "execution_count": null,
   "metadata": {
    "collapsed": true
   },
   "outputs": [],
   "source": []
  },
  {
   "cell_type": "code",
   "execution_count": null,
   "metadata": {
    "collapsed": true
   },
   "outputs": [],
   "source": []
  }
 ],
 "metadata": {
  "kernelspec": {
   "display_name": "Python 2",
   "language": "python",
   "name": "python2"
  },
  "language_info": {
   "codemirror_mode": {
    "name": "ipython",
    "version": 2
   },
   "file_extension": ".py",
   "mimetype": "text/x-python",
   "name": "python",
   "nbconvert_exporter": "python",
   "pygments_lexer": "ipython2",
   "version": "2.7.14"
  }
 },
 "nbformat": 4,
 "nbformat_minor": 2
}
